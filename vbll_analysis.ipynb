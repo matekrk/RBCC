{
 "cells": [
  {
   "cell_type": "code",
   "execution_count": 1,
   "metadata": {},
   "outputs": [
    {
     "name": "stdout",
     "output_type": "stream",
     "text": [
      "vbll found\n"
     ]
    }
   ],
   "source": [
    "import sys, os\n",
    "import pickle\n",
    "import matplotlib.pyplot as plt\n",
    "from matplotlib.colors import to_rgba\n",
    "import integrate_vbll\n",
    "from sklearn.metrics import zero_one_loss, hamming_loss, f1_score, accuracy_score\n",
    "import torch\n",
    "\n",
    "from utils import *"
   ]
  },
  {
   "cell_type": "code",
   "execution_count": 2,
   "metadata": {},
   "outputs": [],
   "source": [
    "def setup_data(classes, input_features):\n",
    "    train_data, train_labels = load_scene(partition='Train')\n",
    "    train_labels = make_binary(train_labels, classes)\n",
    "\n",
    "    X_train = train_data[input_features].values\n",
    "    y_train = train_labels[classes].values\n",
    "\n",
    "    X_train = X_train[y_train.sum(axis=1) != 0]\n",
    "    y_train = y_train[y_train.sum(axis=1) != 0]\n",
    "\n",
    "    test_data, test_labels = load_scene(partition='Test')\n",
    "    test_labels = make_binary(test_labels, classes)\n",
    "\n",
    "    X_test = test_data[input_features].values\n",
    "    y_test = test_labels[classes].values\n",
    "\n",
    "    X_test = X_test[y_test.sum(axis=1) != 0]\n",
    "    y_test = y_test[y_test.sum(axis=1) != 0]\n",
    "\n",
    "    return X_train, y_train, X_test, y_test"
   ]
  },
  {
   "cell_type": "code",
   "execution_count": 3,
   "metadata": {},
   "outputs": [
    {
     "name": "stdout",
     "output_type": "stream",
     "text": [
      "Using device: cpu\n"
     ]
    }
   ],
   "source": [
    "classes = ['Beach', 'Sunset', 'FallFoliage', 'Field', 'Mountain', 'Urban']\n",
    "num_input_features = 294\n",
    "input_features = ['Att' + str(i) for i in range(1, num_input_features+1)]\n",
    "\n",
    "X_train, y_train, X_test, y_test = setup_data(classes, input_features)\n",
    "num_classes = len(classes)\n",
    "len_data = len(X_train)\n",
    "batch_size = 128\n",
    "device = torch.device('cuda' if torch.cuda.is_available() else 'cpu')\n",
    "print('Using device:', device)"
   ]
  },
  {
   "cell_type": "code",
   "execution_count": 4,
   "metadata": {},
   "outputs": [],
   "source": [
    "model_path = \"/home/pyla/bayesian/RBCC/scene_vbll_results_diagonal_1.0_0.001_1000_cuda_1.pt\"\n",
    "\n",
    "reg_weight = 1. / len_data\n",
    "param = 'diagonal' # diagonal, lowrank, dense\n",
    "softmax_bound = 'jensen'\n",
    "return_ood = False\n",
    "prior_scale = 1.0\n",
    "noise_label = True\n",
    "\n",
    "learning_rate = None\n",
    "num_epochs = None\n",
    "verbose = True\n",
    "\n",
    "clf = integrate_vbll.VBLLClassifierClf(num_input_features, batch_size, classes, reg_weight, param, softmax_bound, return_ood, prior_scale, noise_label, device, learning_rate, num_epochs, verbose)\n",
    "clf.load(model_path)"
   ]
  },
  {
   "cell_type": "code",
   "execution_count": 5,
   "metadata": {},
   "outputs": [
    {
     "name": "stdout",
     "output_type": "stream",
     "text": [
      "1180\n",
      "1180\n",
      "1180\n",
      "1180\n",
      "1180\n",
      "1180\n"
     ]
    }
   ],
   "source": [
    "for h in clf.model_heads:\n",
    "    print(sum(p.numel() for p in h.parameters()))"
   ]
  },
  {
   "cell_type": "code",
   "execution_count": 6,
   "metadata": {},
   "outputs": [
    {
     "data": {
      "text/plain": [
       "0.23369116432700254"
      ]
     },
     "execution_count": 6,
     "metadata": {},
     "output_type": "execute_result"
    }
   ],
   "source": [
    "train_preds, train_y_pred = clf.predict_with_proba(X_train)\n",
    "1.0 - zero_one_loss(y_train, train_y_pred)"
   ]
  },
  {
   "cell_type": "code",
   "execution_count": 7,
   "metadata": {},
   "outputs": [
    {
     "data": {
      "text/plain": [
       "(array([0, 0, 0, ..., 0, 0, 0]), array([1., 1., 1., ..., 0., 0., 0.]))"
      ]
     },
     "execution_count": 7,
     "metadata": {},
     "output_type": "execute_result"
    }
   ],
   "source": [
    "train_y_pred[:, 0], y_train[:, 0]"
   ]
  },
  {
   "cell_type": "code",
   "execution_count": 8,
   "metadata": {},
   "outputs": [
    {
     "data": {
      "text/plain": [
       "(42, 224.0)"
      ]
     },
     "execution_count": 8,
     "metadata": {},
     "output_type": "execute_result"
    }
   ],
   "source": [
    "train_y_pred[:, -1].sum(), y_train[:, -1].sum()"
   ]
  },
  {
   "cell_type": "code",
   "execution_count": 9,
   "metadata": {},
   "outputs": [
    {
     "name": "stdout",
     "output_type": "stream",
     "text": [
      "0.8538398018166804\n",
      "0.921552436003303\n",
      "0.8720066061106524\n",
      "0.9066886870355079\n",
      "0.7778695293146161\n",
      "0.833195706028076\n"
     ]
    }
   ],
   "source": [
    "for i in range(num_classes):\n",
    "    print(accuracy_score(y_train[:, i], train_y_pred[:, i]))"
   ]
  },
  {
   "cell_type": "code",
   "execution_count": 10,
   "metadata": {},
   "outputs": [],
   "source": [
    "preds, y_pred = clf.predict_with_proba(X_test)"
   ]
  },
  {
   "cell_type": "code",
   "execution_count": 11,
   "metadata": {},
   "outputs": [
    {
     "data": {
      "text/plain": [
       "array([[[0.8322057 , 0.16779432],\n",
       "        [0.94131845, 0.05868156],\n",
       "        [0.8999186 , 0.10008141],\n",
       "        [0.9088417 , 0.09115829],\n",
       "        [0.7773903 , 0.22260973],\n",
       "        [0.8654624 , 0.13453764]],\n",
       "\n",
       "       [[0.6622306 , 0.33776936],\n",
       "        [0.93485206, 0.06514792],\n",
       "        [0.8818067 , 0.11819331],\n",
       "        [0.8967409 , 0.10325911],\n",
       "        [0.9178033 , 0.08219666],\n",
       "        [0.8564113 , 0.1435887 ]],\n",
       "\n",
       "       [[0.77239513, 0.22760479],\n",
       "        [0.96722364, 0.03277642],\n",
       "        [0.9278769 , 0.07212314],\n",
       "        [0.80574703, 0.194253  ],\n",
       "        [0.66288644, 0.3371136 ],\n",
       "        [0.8833302 , 0.11666975]],\n",
       "\n",
       "       [[0.8223967 , 0.17760333],\n",
       "        [0.95173633, 0.04826362],\n",
       "        [0.9073658 , 0.0926342 ],\n",
       "        [0.7608628 , 0.23913723],\n",
       "        [0.8216607 , 0.17833932],\n",
       "        [0.9123783 , 0.0876217 ]],\n",
       "\n",
       "       [[0.710456  , 0.28954402],\n",
       "        [0.9623254 , 0.03767462],\n",
       "        [0.93216974, 0.06783025],\n",
       "        [0.9159406 , 0.08405946],\n",
       "        [0.71241516, 0.28758487],\n",
       "        [0.7884962 , 0.21150383]],\n",
       "\n",
       "       [[0.8747362 , 0.12526377],\n",
       "        [0.7927606 , 0.2072394 ],\n",
       "        [0.87722445, 0.1227755 ],\n",
       "        [0.94134986, 0.05865017],\n",
       "        [0.8144989 , 0.18550107],\n",
       "        [0.93476224, 0.06523778]],\n",
       "\n",
       "       [[0.79774433, 0.20225565],\n",
       "        [0.97060174, 0.02939825],\n",
       "        [0.93864787, 0.06135212],\n",
       "        [0.93058527, 0.06941476],\n",
       "        [0.83001626, 0.16998377],\n",
       "        [0.6467577 , 0.35324225]],\n",
       "\n",
       "       [[0.7104781 , 0.28952193],\n",
       "        [0.9733294 , 0.02667059],\n",
       "        [0.9457591 , 0.05424086],\n",
       "        [0.9059319 , 0.0940681 ],\n",
       "        [0.75795186, 0.24204814],\n",
       "        [0.780921  , 0.21907899]],\n",
       "\n",
       "       [[0.80990833, 0.1900917 ],\n",
       "        [0.91473556, 0.08526447],\n",
       "        [0.8357329 , 0.16426715],\n",
       "        [0.8631836 , 0.1368164 ],\n",
       "        [0.8579738 , 0.14202622],\n",
       "        [0.86448014, 0.13551986]],\n",
       "\n",
       "       [[0.88020074, 0.11979923],\n",
       "        [0.930723  , 0.069277  ],\n",
       "        [0.8877449 , 0.11225511],\n",
       "        [0.9036632 , 0.09633677],\n",
       "        [0.74095356, 0.2590465 ],\n",
       "        [0.7784431 , 0.22155687]],\n",
       "\n",
       "       [[0.7558017 , 0.24419837],\n",
       "        [0.88007104, 0.11992896],\n",
       "        [0.8234148 , 0.17658524],\n",
       "        [0.8950653 , 0.10493468],\n",
       "        [0.69257385, 0.30742612],\n",
       "        [0.6958534 , 0.30414662]],\n",
       "\n",
       "       [[0.45837206, 0.541628  ],\n",
       "        [0.98577577, 0.01422421],\n",
       "        [0.89712584, 0.10287417],\n",
       "        [0.7537954 , 0.24620458],\n",
       "        [0.76707   , 0.23292994],\n",
       "        [0.7842844 , 0.21571557]],\n",
       "\n",
       "       [[0.7472905 , 0.25270957],\n",
       "        [0.92182475, 0.07817525],\n",
       "        [0.8989881 , 0.10101192],\n",
       "        [0.8999453 , 0.10005462],\n",
       "        [0.6400469 , 0.35995308],\n",
       "        [0.75775194, 0.2422481 ]],\n",
       "\n",
       "       [[0.35353994, 0.64646006],\n",
       "        [0.97833973, 0.02166025],\n",
       "        [0.94313365, 0.05686633],\n",
       "        [0.82777226, 0.17222776],\n",
       "        [0.77787006, 0.22212994],\n",
       "        [0.84410715, 0.15589279]],\n",
       "\n",
       "       [[0.5154921 , 0.48450795],\n",
       "        [0.97415185, 0.02584813],\n",
       "        [0.95181555, 0.04818448],\n",
       "        [0.86544   , 0.13455996],\n",
       "        [0.74720395, 0.25279602],\n",
       "        [0.7997332 , 0.20026676]],\n",
       "\n",
       "       [[0.85696   , 0.14304003],\n",
       "        [0.92515177, 0.07484822],\n",
       "        [0.33476526, 0.66523474],\n",
       "        [0.8774393 , 0.12256067],\n",
       "        [0.8845911 , 0.1154089 ],\n",
       "        [0.87923026, 0.12076972]],\n",
       "\n",
       "       [[0.7399727 , 0.26002732],\n",
       "        [0.97957337, 0.0204266 ],\n",
       "        [0.84429955, 0.15570046],\n",
       "        [0.69689435, 0.30310568],\n",
       "        [0.74100196, 0.2589981 ],\n",
       "        [0.7719953 , 0.22800462]],\n",
       "\n",
       "       [[0.4106765 , 0.5893235 ],\n",
       "        [0.98422813, 0.01577182],\n",
       "        [0.8759833 , 0.12401665],\n",
       "        [0.66961324, 0.3303868 ],\n",
       "        [0.6108877 , 0.38911232],\n",
       "        [0.8396904 , 0.16030961]],\n",
       "\n",
       "       [[0.73959506, 0.260405  ],\n",
       "        [0.96379036, 0.03620967],\n",
       "        [0.89297444, 0.10702559],\n",
       "        [0.8023412 , 0.1976587 ],\n",
       "        [0.79764605, 0.20235392],\n",
       "        [0.8111134 , 0.18888661]],\n",
       "\n",
       "       [[0.23322882, 0.7667712 ],\n",
       "        [0.97847784, 0.02152215],\n",
       "        [0.9138634 , 0.08613659],\n",
       "        [0.6837224 , 0.31627768],\n",
       "        [0.7823422 , 0.2176578 ],\n",
       "        [0.86835974, 0.13164023]]], dtype=float32)"
      ]
     },
     "execution_count": 11,
     "metadata": {},
     "output_type": "execute_result"
    }
   ],
   "source": [
    "preds[:20]"
   ]
  },
  {
   "cell_type": "code",
   "execution_count": 12,
   "metadata": {},
   "outputs": [
    {
     "data": {
      "text/plain": [
       "array([[0, 0, 0, 0, 0, 0],\n",
       "       [0, 0, 0, 0, 0, 0],\n",
       "       [0, 0, 0, 0, 0, 0],\n",
       "       [0, 0, 0, 0, 0, 0],\n",
       "       [0, 0, 0, 0, 0, 0],\n",
       "       [0, 0, 0, 0, 0, 0],\n",
       "       [0, 0, 0, 0, 0, 0],\n",
       "       [0, 0, 0, 0, 0, 0],\n",
       "       [0, 0, 0, 0, 0, 0],\n",
       "       [0, 0, 0, 0, 0, 0],\n",
       "       [0, 0, 0, 0, 0, 0],\n",
       "       [1, 0, 0, 0, 0, 0],\n",
       "       [0, 0, 0, 0, 0, 0],\n",
       "       [1, 0, 0, 0, 0, 0],\n",
       "       [0, 0, 0, 0, 0, 0],\n",
       "       [0, 0, 1, 0, 0, 0],\n",
       "       [0, 0, 0, 0, 0, 0],\n",
       "       [1, 0, 0, 0, 0, 0],\n",
       "       [0, 0, 0, 0, 0, 0],\n",
       "       [1, 0, 0, 0, 0, 0]])"
      ]
     },
     "execution_count": 12,
     "metadata": {},
     "output_type": "execute_result"
    }
   ],
   "source": [
    "y_pred[:20]"
   ]
  },
  {
   "cell_type": "code",
   "execution_count": 13,
   "metadata": {},
   "outputs": [
    {
     "data": {
      "text/plain": [
       "array([[1., 0., 0., 0., 1., 0.],\n",
       "       [1., 0., 0., 0., 0., 0.],\n",
       "       [1., 0., 0., 0., 0., 0.],\n",
       "       [1., 0., 0., 0., 1., 0.],\n",
       "       [1., 0., 0., 0., 0., 0.],\n",
       "       [1., 0., 0., 0., 0., 0.],\n",
       "       [1., 0., 0., 0., 0., 0.],\n",
       "       [1., 0., 0., 0., 0., 0.],\n",
       "       [1., 0., 0., 0., 0., 0.],\n",
       "       [1., 0., 0., 0., 0., 0.],\n",
       "       [1., 0., 0., 0., 0., 0.],\n",
       "       [1., 0., 0., 0., 0., 0.],\n",
       "       [1., 0., 0., 0., 0., 0.],\n",
       "       [1., 0., 0., 0., 0., 0.],\n",
       "       [1., 0., 0., 0., 0., 0.],\n",
       "       [1., 0., 0., 0., 0., 0.],\n",
       "       [1., 0., 0., 0., 0., 0.],\n",
       "       [1., 0., 0., 0., 1., 0.],\n",
       "       [1., 0., 0., 0., 0., 0.],\n",
       "       [1., 0., 0., 0., 0., 0.]])"
      ]
     },
     "execution_count": 13,
     "metadata": {},
     "output_type": "execute_result"
    }
   ],
   "source": [
    "y_test[:20]"
   ]
  },
  {
   "cell_type": "code",
   "execution_count": 17,
   "metadata": {},
   "outputs": [
    {
     "data": {
      "text/plain": [
       "(1137, 224.0)"
      ]
     },
     "execution_count": 17,
     "metadata": {},
     "output_type": "execute_result"
    }
   ],
   "source": [
    "train_y_pred[:, -1].sum(), y_train[:, -1].sum()"
   ]
  },
  {
   "cell_type": "code",
   "execution_count": 18,
   "metadata": {},
   "outputs": [
    {
     "name": "stdout",
     "output_type": "stream",
     "text": [
      "Number of (learnable) parameters in the model:  7068\n"
     ]
    }
   ],
   "source": [
    "learnable_parameters = [param for model in clf.model_heads for param in model.parameters()]\n",
    "print(\"Number of (learnable) parameters in the model: \", sum(p.numel() for p in learnable_parameters if p.requires_grad))"
   ]
  },
  {
   "cell_type": "code",
   "execution_count": null,
   "metadata": {},
   "outputs": [],
   "source": []
  },
  {
   "cell_type": "code",
   "execution_count": 25,
   "metadata": {},
   "outputs": [],
   "source": [
    "model_path = \"/home/pyla/bayesian/RBCC/scene_vbll_extended_results_294x0_diagonal_1.0_0.001_1000_cuda_0.pt\"\n",
    "\n",
    "hidden_size = 294\n",
    "n_hidden = 0\n",
    "\n",
    "reg_weight = 1. / len_data\n",
    "param = 'diagonal' # diagonal, lowrank, dense\n",
    "softmax_bound = 'jensen'\n",
    "return_ood = False\n",
    "prior_scale = 1.0\n",
    "noise_label = True\n",
    "\n",
    "learning_rate = None\n",
    "num_epochs = None\n",
    "verbose = True\n",
    "\n",
    "extended_clf = integrate_vbll.ExtendedVBLLClassifierClf(num_input_features, hidden_size, n_hidden, batch_size, classes, reg_weight, param, softmax_bound, return_ood, prior_scale, noise_label, device, learning_rate, num_epochs, verbose)\n",
    "extended_clf.load(model_path)"
   ]
  },
  {
   "cell_type": "code",
   "execution_count": 26,
   "metadata": {},
   "outputs": [
    {
     "name": "stdout",
     "output_type": "stream",
     "text": [
      "0.7481420313790256\n",
      "0.2815854665565648\n",
      "0.4541701073492981\n",
      "0.7927332782824112\n",
      "0.4153592072667217\n",
      "0.20644095788604458\n"
     ]
    },
    {
     "data": {
      "text/plain": [
       "0.03633360858794388"
      ]
     },
     "execution_count": 26,
     "metadata": {},
     "output_type": "execute_result"
    }
   ],
   "source": [
    "for i in range(num_classes):\n",
    "    print(accuracy_score(y_train[:, i], train_y_pred[:, i]))\n",
    "train_preds, train_y_pred = extended_clf.predict_with_proba(X_train)\n",
    "1.0 - zero_one_loss(y_train, train_y_pred)"
   ]
  },
  {
   "cell_type": "code",
   "execution_count": 27,
   "metadata": {},
   "outputs": [
    {
     "data": {
      "text/plain": [
       "array([[1., 0., 0., 0., 1., 0.],\n",
       "       [1., 0., 0., 0., 0., 1.],\n",
       "       [1., 0., 0., 0., 0., 0.],\n",
       "       [1., 0., 0., 0., 0., 0.],\n",
       "       [1., 0., 0., 0., 0., 0.],\n",
       "       [1., 0., 0., 0., 0., 0.],\n",
       "       [1., 0., 0., 0., 0., 0.],\n",
       "       [1., 0., 0., 0., 1., 0.],\n",
       "       [1., 0., 0., 0., 0., 0.],\n",
       "       [1., 0., 0., 0., 0., 0.]])"
      ]
     },
     "execution_count": 27,
     "metadata": {},
     "output_type": "execute_result"
    }
   ],
   "source": [
    "y_train[:10]"
   ]
  },
  {
   "cell_type": "code",
   "execution_count": 30,
   "metadata": {},
   "outputs": [
    {
     "data": {
      "text/plain": [
       "array([[[0.5547686 , 0.44523138],\n",
       "        [0.4138832 , 0.5861168 ],\n",
       "        [0.45767698, 0.542323  ],\n",
       "        [0.55167854, 0.44832143],\n",
       "        [0.5243117 , 0.47568828],\n",
       "        [0.4601263 , 0.5398737 ]],\n",
       "\n",
       "       [[0.4207653 , 0.57923466],\n",
       "        [0.47640228, 0.5235977 ],\n",
       "        [0.5005409 , 0.4994591 ],\n",
       "        [0.5065948 , 0.49340525],\n",
       "        [0.47373027, 0.52626973],\n",
       "        [0.45753407, 0.542466  ]],\n",
       "\n",
       "       [[0.59425104, 0.405749  ],\n",
       "        [0.4571649 , 0.5428351 ],\n",
       "        [0.47724557, 0.5227545 ],\n",
       "        [0.57728773, 0.42271227],\n",
       "        [0.54566634, 0.45433363],\n",
       "        [0.4816397 , 0.51836026]],\n",
       "\n",
       "       [[0.6760004 , 0.32399955],\n",
       "        [0.48609647, 0.5139035 ],\n",
       "        [0.49518928, 0.5048107 ],\n",
       "        [0.56318176, 0.43681827],\n",
       "        [0.5193413 , 0.48065874],\n",
       "        [0.4709327 , 0.52906734]],\n",
       "\n",
       "       [[0.6032166 , 0.3967834 ],\n",
       "        [0.48791614, 0.5120839 ],\n",
       "        [0.4785679 , 0.52143216],\n",
       "        [0.53808486, 0.4619151 ],\n",
       "        [0.51285535, 0.48714462],\n",
       "        [0.4072248 , 0.59277517]],\n",
       "\n",
       "       [[0.5836958 , 0.41630417],\n",
       "        [0.4508536 , 0.5491464 ],\n",
       "        [0.53557855, 0.46442145],\n",
       "        [0.5539484 , 0.44605163],\n",
       "        [0.45831603, 0.541684  ],\n",
       "        [0.41546896, 0.58453107]],\n",
       "\n",
       "       [[0.5751679 , 0.42483214],\n",
       "        [0.47850722, 0.5214928 ],\n",
       "        [0.53315276, 0.46684727],\n",
       "        [0.56017095, 0.43982902],\n",
       "        [0.5239228 , 0.47607723],\n",
       "        [0.44075924, 0.55924076]],\n",
       "\n",
       "       [[0.5599333 , 0.44006667],\n",
       "        [0.489364  , 0.51063603],\n",
       "        [0.5353709 , 0.46462908],\n",
       "        [0.53864336, 0.46135664],\n",
       "        [0.48912224, 0.5108777 ],\n",
       "        [0.41787282, 0.5821272 ]],\n",
       "\n",
       "       [[0.5683245 , 0.4316755 ],\n",
       "        [0.47633567, 0.5236643 ],\n",
       "        [0.4923417 , 0.5076583 ],\n",
       "        [0.61091864, 0.3890814 ],\n",
       "        [0.4668455 , 0.5331545 ],\n",
       "        [0.44785085, 0.5521492 ]],\n",
       "\n",
       "       [[0.47617775, 0.5238223 ],\n",
       "        [0.4895908 , 0.5104092 ],\n",
       "        [0.48384103, 0.51615894],\n",
       "        [0.5458747 , 0.45412534],\n",
       "        [0.4508031 , 0.5491969 ],\n",
       "        [0.45444465, 0.5455554 ]]], dtype=float32)"
      ]
     },
     "execution_count": 30,
     "metadata": {},
     "output_type": "execute_result"
    }
   ],
   "source": [
    "preds[:10]"
   ]
  },
  {
   "cell_type": "code",
   "execution_count": 28,
   "metadata": {},
   "outputs": [
    {
     "data": {
      "text/plain": [
       "array([[0, 1, 0, 0, 1, 0],\n",
       "       [0, 1, 0, 0, 1, 0],\n",
       "       [0, 1, 0, 0, 1, 0],\n",
       "       [0, 1, 0, 0, 1, 0],\n",
       "       [0, 1, 0, 1, 0, 1],\n",
       "       [0, 1, 0, 0, 1, 0],\n",
       "       [0, 1, 0, 0, 1, 0],\n",
       "       [0, 1, 0, 0, 0, 0],\n",
       "       [0, 1, 0, 0, 1, 0],\n",
       "       [0, 1, 0, 1, 1, 0]])"
      ]
     },
     "execution_count": 28,
     "metadata": {},
     "output_type": "execute_result"
    }
   ],
   "source": [
    "train_y_pred[:10]"
   ]
  },
  {
   "cell_type": "code",
   "execution_count": 16,
   "metadata": {},
   "outputs": [
    {
     "data": {
      "text/plain": [
       "(array([[[0.5547686 , 0.44523138],\n",
       "         [0.4138832 , 0.5861168 ],\n",
       "         [0.45767698, 0.542323  ],\n",
       "         [0.55167854, 0.44832143],\n",
       "         [0.5243117 , 0.47568828],\n",
       "         [0.4601263 , 0.5398737 ]],\n",
       " \n",
       "        [[0.4207653 , 0.57923466],\n",
       "         [0.47640228, 0.5235977 ],\n",
       "         [0.5005409 , 0.4994591 ],\n",
       "         [0.5065948 , 0.49340525],\n",
       "         [0.47373027, 0.52626973],\n",
       "         [0.45753407, 0.542466  ]],\n",
       " \n",
       "        [[0.59425104, 0.405749  ],\n",
       "         [0.4571649 , 0.5428351 ],\n",
       "         [0.47724557, 0.5227545 ],\n",
       "         [0.57728773, 0.42271227],\n",
       "         [0.54566634, 0.45433363],\n",
       "         [0.4816397 , 0.51836026]],\n",
       " \n",
       "        ...,\n",
       " \n",
       "        [[0.60943997, 0.39056006],\n",
       "         [0.4442079 , 0.55579215],\n",
       "         [0.53572893, 0.46427107],\n",
       "         [0.54193825, 0.45806172],\n",
       "         [0.52433264, 0.4756674 ],\n",
       "         [0.44143742, 0.5585626 ]],\n",
       " \n",
       "        [[0.601758  , 0.39824206],\n",
       "         [0.45604628, 0.5439537 ],\n",
       "         [0.54080236, 0.4591977 ],\n",
       "         [0.58369696, 0.416303  ],\n",
       "         [0.4277032 , 0.57229686],\n",
       "         [0.44141525, 0.5585848 ]],\n",
       " \n",
       "        [[0.46199423, 0.5380058 ],\n",
       "         [0.40958053, 0.5904195 ],\n",
       "         [0.55338895, 0.44661102],\n",
       "         [0.56355345, 0.43644658],\n",
       "         [0.44679222, 0.55320776],\n",
       "         [0.38558534, 0.6144147 ]]], dtype=float32),\n",
       " array([[0, 1, 1, 0, 0, 1],\n",
       "        [1, 1, 0, 0, 1, 1],\n",
       "        [0, 1, 1, 0, 0, 1],\n",
       "        ...,\n",
       "        [0, 1, 0, 0, 0, 1],\n",
       "        [0, 1, 0, 0, 1, 1],\n",
       "        [1, 1, 0, 0, 1, 1]]))"
      ]
     },
     "execution_count": 16,
     "metadata": {},
     "output_type": "execute_result"
    }
   ],
   "source": [
    "preds, y_pred = extended_clf.predict_with_proba(X_test)\n",
    "preds, y_pred"
   ]
  },
  {
   "cell_type": "code",
   "execution_count": 19,
   "metadata": {},
   "outputs": [
    {
     "name": "stdout",
     "output_type": "stream",
     "text": [
      "Number of (learnable) parameters in the model:  93798\n"
     ]
    }
   ],
   "source": [
    "learnable_parameters = [param for model in extended_clf.model_heads for param in model.parameters()]\n",
    "if extended_clf.model_base is not None:\n",
    "    learnable_parameters += [param for param in extended_clf.model_base.parameters()]\n",
    "print(\"Number of (learnable) parameters in the model: \", sum(p.numel() for p in learnable_parameters if p.requires_grad))"
   ]
  },
  {
   "cell_type": "code",
   "execution_count": null,
   "metadata": {},
   "outputs": [],
   "source": []
  },
  {
   "cell_type": "code",
   "execution_count": 22,
   "metadata": {},
   "outputs": [
    {
     "data": {
      "text/plain": [
       "121206"
      ]
     },
     "execution_count": 22,
     "metadata": {},
     "output_type": "execute_result"
    }
   ],
   "source": [
    "import classifiers\n",
    "\n",
    "input_size = len(input_features)\n",
    "hidden_size = 100\n",
    "parent_dict = {\n",
    "    0: {'class': 'Beach', 'parents': []},\n",
    "    1: {'class': 'Sunset', 'parents': []},\n",
    "    2: {'class': 'FallFoliage', 'parents': []},\n",
    "    3: {'class': 'Field', 'parents': []},\n",
    "    4: {'class': 'Mountain', 'parents': []},\n",
    "    5: {'class': 'Urban', 'parents': []}\n",
    "}\n",
    "\n",
    "clf_bayrnn = classifiers.BayClassifierChainClf(input_size, hidden_size, num_classes, batch_size, parent_dict, classes, device, learning_rate, num_epochs, verbose=True)\n",
    "\n",
    "sum(p.numel() for p in clf_bayrnn.model.parameters())"
   ]
  },
  {
   "cell_type": "code",
   "execution_count": null,
   "metadata": {},
   "outputs": [],
   "source": []
  }
 ],
 "metadata": {
  "kernelspec": {
   "display_name": "bfn2",
   "language": "python",
   "name": "python3"
  },
  "language_info": {
   "codemirror_mode": {
    "name": "ipython",
    "version": 3
   },
   "file_extension": ".py",
   "mimetype": "text/x-python",
   "name": "python",
   "nbconvert_exporter": "python",
   "pygments_lexer": "ipython3",
   "version": "3.10.9"
  }
 },
 "nbformat": 4,
 "nbformat_minor": 2
}
