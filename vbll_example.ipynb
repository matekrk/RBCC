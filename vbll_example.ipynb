{
 "cells": [
  {
   "cell_type": "code",
   "execution_count": 2,
   "metadata": {},
   "outputs": [
    {
     "name": "stdout",
     "output_type": "stream",
     "text": [
      "vbll found\n"
     ]
    },
    {
     "data": {
      "text/plain": [
       "'3.10.9'"
      ]
     },
     "execution_count": 2,
     "metadata": {},
     "output_type": "execute_result"
    }
   ],
   "source": [
    "from platform import python_version\n",
    "import bnlearn as bn\n",
    "from utils import *\n",
    "import matplotlib.pyplot as plt\n",
    "import pickle\n",
    "import classifiers\n",
    "import integrate_vbll\n",
    "import torch\n",
    "from sklearn.metrics import zero_one_loss\n",
    "from sklearn.metrics import hamming_loss\n",
    "from sklearn.metrics import hamming_loss\n",
    "from sklearn.metrics import f1_score\n",
    "%matplotlib inline\n",
    "python_version()"
   ]
  },
  {
   "cell_type": "code",
   "execution_count": 4,
   "metadata": {},
   "outputs": [],
   "source": [
    "import sys, os\n",
    "\n",
    "\n",
    "VBLL_PATH_UPTODATE = \"/home/pyla/bayesian/vbll_uptodate/vbll\"\n",
    "\n",
    "sys.path.append(os.path.abspath(VBLL_PATH_UPTODATE))\n",
    "\n",
    "import vbll"
   ]
  },
  {
   "cell_type": "code",
   "execution_count": 7,
   "metadata": {},
   "outputs": [
    {
     "ename": "AttributeError",
     "evalue": "module 'vbll' has no attribute 'vbll'",
     "output_type": "error",
     "traceback": [
      "\u001b[0;31m---------------------------------------------------------------------------\u001b[0m",
      "\u001b[0;31mAttributeError\u001b[0m                            Traceback (most recent call last)",
      "Cell \u001b[0;32mIn[7], line 1\u001b[0m\n\u001b[0;32m----> 1\u001b[0m \u001b[43mvbll\u001b[49m\u001b[38;5;241;43m.\u001b[39;49m\u001b[43mvbll\u001b[49m\u001b[38;5;241m.\u001b[39mDiscClassification\n",
      "\u001b[0;31mAttributeError\u001b[0m: module 'vbll' has no attribute 'vbll'"
     ]
    }
   ],
   "source": [
    "vbll.vbll.DiscClassification"
   ]
  },
  {
   "cell_type": "code",
   "execution_count": 8,
   "metadata": {},
   "outputs": [
    {
     "ename": "ModuleNotFoundError",
     "evalue": "No module named 'vbll.layers'",
     "output_type": "error",
     "traceback": [
      "\u001b[0;31m---------------------------------------------------------------------------\u001b[0m",
      "\u001b[0;31mModuleNotFoundError\u001b[0m                       Traceback (most recent call last)",
      "Cell \u001b[0;32mIn[8], line 1\u001b[0m\n\u001b[0;32m----> 1\u001b[0m \u001b[38;5;28;01mfrom\u001b[39;00m \u001b[38;5;21;01mvbll\u001b[39;00m\u001b[38;5;21;01m.\u001b[39;00m\u001b[38;5;21;01mlayers\u001b[39;00m\u001b[38;5;21;01m.\u001b[39;00m\u001b[38;5;21;01mclassification\u001b[39;00m \u001b[38;5;28;01mimport\u001b[39;00m DiscClassification\n",
      "\u001b[0;31mModuleNotFoundError\u001b[0m: No module named 'vbll.layers'"
     ]
    }
   ],
   "source": [
    "from vbll.layers.classification import DiscClassification\n"
   ]
  },
  {
   "cell_type": "code",
   "execution_count": 5,
   "metadata": {},
   "outputs": [
    {
     "name": "stdout",
     "output_type": "stream",
     "text": [
      "Help on package vbll:\n",
      "\n",
      "NAME\n",
      "    vbll\n",
      "\n",
      "PACKAGE CONTENTS\n",
      "    script\n",
      "    script_mc\n",
      "    script_noise\n",
      "    setup\n",
      "    vbll (package)\n",
      "\n",
      "FILE\n",
      "    (built-in)\n",
      "\n",
      "\n"
     ]
    }
   ],
   "source": [
    "help(vbll)"
   ]
  },
  {
   "cell_type": "code",
   "execution_count": 2,
   "metadata": {},
   "outputs": [
    {
     "name": "stdout",
     "output_type": "stream",
     "text": [
      "Using device: cpu\n"
     ]
    }
   ],
   "source": [
    "exp_name = 'scene'\n",
    "classes = ['Beach','Sunset','FallFoliage','Field','Mountain','Urban']\n",
    "\n",
    "input_features = ['Att' + str(i) for i in range(1,295)]\n",
    "\n",
    "train_data, train_labels = load_scene(partition='Train')\n",
    "train_labels = make_binary(train_labels, classes)\n",
    "\n",
    "X_train = train_data[input_features].values\n",
    "y_train = train_labels[classes].values\n",
    "\n",
    "X_train = X_train[y_train.sum(axis=1) != 0]\n",
    "y_train = y_train[y_train.sum(axis=1) != 0]\n",
    "\n",
    "\n",
    "test_data, test_labels = load_scene(partition='Test')\n",
    "test_labels = make_binary(test_labels, classes)\n",
    "\n",
    "X_test = test_data[input_features].values\n",
    "y_test = test_labels[classes].values\n",
    "\n",
    "X_test = X_test[y_test.sum(axis=1) != 0]\n",
    "y_test = y_test[y_test.sum(axis=1) != 0]\n",
    "\n",
    "\n",
    "# --- Device configuration ---\n",
    "device = torch.device('cuda' if torch.cuda.is_available() else 'cpu')\n",
    "print('Using device:', device)\n"
   ]
  },
  {
   "cell_type": "code",
   "execution_count": 3,
   "metadata": {},
   "outputs": [],
   "source": [
    "# --- Hyper-parameters ---\n",
    "input_size = len(input_features)\n",
    "hidden_size = 100\n",
    "n_hidden = 1\n",
    "num_classes = len(classes)\n",
    "batch_size = 128\n",
    "num_epochs = 100\n",
    "num_runs = 2\n",
    "learning_rate = 1e-3\n",
    "\n",
    "reg_weight = 1./X_train.__len__()\n",
    "param = 'diagonal'\n",
    "return_ood = False\n",
    "prior_scale = 1.0\n",
    "noise_label = True"
   ]
  },
  {
   "cell_type": "code",
   "execution_count": 4,
   "metadata": {},
   "outputs": [
    {
     "name": "stdout",
     "output_type": "stream",
     "text": [
      "run\n",
      "0\n"
     ]
    },
    {
     "ename": "AttributeError",
     "evalue": "module 'vbll' has no attribute 'DiscClassification'",
     "output_type": "error",
     "traceback": [
      "\u001b[0;31m---------------------------------------------------------------------------\u001b[0m",
      "\u001b[0;31mAttributeError\u001b[0m                            Traceback (most recent call last)",
      "Cell \u001b[0;32mIn[4], line 29\u001b[0m\n\u001b[1;32m     26\u001b[0m X_test \u001b[38;5;241m=\u001b[39m X_test[y_test\u001b[38;5;241m.\u001b[39msum(axis\u001b[38;5;241m=\u001b[39m\u001b[38;5;241m1\u001b[39m) \u001b[38;5;241m!=\u001b[39m \u001b[38;5;241m0\u001b[39m]\n\u001b[1;32m     27\u001b[0m y_test \u001b[38;5;241m=\u001b[39m y_test[y_test\u001b[38;5;241m.\u001b[39msum(axis\u001b[38;5;241m=\u001b[39m\u001b[38;5;241m1\u001b[39m) \u001b[38;5;241m!=\u001b[39m \u001b[38;5;241m0\u001b[39m]\n\u001b[0;32m---> 29\u001b[0m clf \u001b[38;5;241m=\u001b[39m \u001b[43mintegrate_vbll\u001b[49m\u001b[38;5;241;43m.\u001b[39;49m\u001b[43mVBLLClassifierClf\u001b[49m\u001b[43m(\u001b[49m\u001b[43minput_size\u001b[49m\u001b[43m,\u001b[49m\u001b[43m \u001b[49m\u001b[43mhidden_size\u001b[49m\u001b[43m,\u001b[49m\u001b[43m \u001b[49m\u001b[43mn_hidden\u001b[49m\u001b[43m,\u001b[49m\u001b[43m \u001b[49m\u001b[43mnum_classes\u001b[49m\u001b[43m,\u001b[49m\u001b[43m \u001b[49m\u001b[43mbatch_size\u001b[49m\u001b[43m,\u001b[49m\u001b[43m \u001b[49m\u001b[43mnum_epochs\u001b[49m\u001b[43m,\u001b[49m\u001b[43m \u001b[49m\u001b[43mlearning_rate\u001b[49m\u001b[43m,\u001b[49m\u001b[43m \u001b[49m\u001b[43mreg_weight\u001b[49m\u001b[43m,\u001b[49m\u001b[43m \u001b[49m\u001b[43mparam\u001b[49m\u001b[43m,\u001b[49m\u001b[43m \u001b[49m\u001b[43mreturn_ood\u001b[49m\u001b[43m,\u001b[49m\u001b[43m \u001b[49m\u001b[43mprior_scale\u001b[49m\u001b[43m,\u001b[49m\u001b[43m \u001b[49m\u001b[43mnoise_label\u001b[49m\u001b[43m,\u001b[49m\u001b[43m \u001b[49m\u001b[43mdevice\u001b[49m\u001b[43m)\u001b[49m\n\u001b[1;32m     31\u001b[0m clf\u001b[38;5;241m.\u001b[39mfit(X_train, y_train)\n\u001b[1;32m     33\u001b[0m preds, preds_proba \u001b[38;5;241m=\u001b[39m clf\u001b[38;5;241m.\u001b[39mpredict_with_proba(X_test)\n",
      "File \u001b[0;32m~/bayesian/RBCC/integrate_vbll.py:43\u001b[0m, in \u001b[0;36mVBLLClassifierClf.__init__\u001b[0;34m(self, input_size, num_classes, batch_size, classes, reg_weight, param, return_ood, prior_scale, noise_label, device, learning_rate, num_epochs, verbose)\u001b[0m\n\u001b[1;32m     37\u001b[0m \u001b[38;5;28;01mdef\u001b[39;00m \u001b[38;5;21m__init__\u001b[39m(\u001b[38;5;28mself\u001b[39m, input_size, num_classes, batch_size, classes, reg_weight, param, return_ood, prior_scale, noise_label,\n\u001b[1;32m     38\u001b[0m              device\u001b[38;5;241m=\u001b[39m\u001b[38;5;124m'\u001b[39m\u001b[38;5;124mcuda\u001b[39m\u001b[38;5;124m'\u001b[39m, learning_rate \u001b[38;5;241m=\u001b[39m \u001b[38;5;241m1e-2\u001b[39m, num_epochs \u001b[38;5;241m=\u001b[39m \u001b[38;5;241m200\u001b[39m, verbose\u001b[38;5;241m=\u001b[39m\u001b[38;5;28;01mFalse\u001b[39;00m):\n\u001b[1;32m     39\u001b[0m \n\u001b[1;32m     40\u001b[0m     \u001b[38;5;66;03m# self.vbll = load_vbll(VBLL_PATH_UPTODATE)\u001b[39;00m\n\u001b[1;32m     42\u001b[0m     \u001b[38;5;28mself\u001b[39m\u001b[38;5;241m.\u001b[39mdevice \u001b[38;5;241m=\u001b[39m device\n\u001b[0;32m---> 43\u001b[0m     \u001b[38;5;28mself\u001b[39m\u001b[38;5;241m.\u001b[39mmodel \u001b[38;5;241m=\u001b[39m \u001b[43mvbll\u001b[49m\u001b[38;5;241;43m.\u001b[39;49m\u001b[43mDiscClassification\u001b[49m(input_size, num_classes, reg_weight, param, return_ood, prior_scale, noise_label)\u001b[38;5;241m.\u001b[39mto(\u001b[38;5;28mself\u001b[39m\u001b[38;5;241m.\u001b[39mdevice)\n\u001b[1;32m     45\u001b[0m     \u001b[38;5;28mself\u001b[39m\u001b[38;5;241m.\u001b[39mlearning_rate \u001b[38;5;241m=\u001b[39m learning_rate\n\u001b[1;32m     46\u001b[0m     \u001b[38;5;28mself\u001b[39m\u001b[38;5;241m.\u001b[39mnum_epochs \u001b[38;5;241m=\u001b[39m num_epochs\n",
      "\u001b[0;31mAttributeError\u001b[0m: module 'vbll' has no attribute 'DiscClassification'"
     ]
    }
   ],
   "source": [
    "vbll_clf_dict = {}\n",
    "for run in range(num_runs):\n",
    "\n",
    "    vbll_clf_dict[run] = {}\n",
    "\n",
    "        \n",
    "    print('run')\n",
    "    print(run)\n",
    "\n",
    "    train_data, train_labels = load_scene(partition='Train')\n",
    "    train_labels = make_binary(train_labels, classes)\n",
    "\n",
    "    X_train = train_data[input_features].values\n",
    "    y_train = train_labels[classes].values\n",
    "\n",
    "    X_train = X_train[y_train.sum(axis=1) != 0]\n",
    "    y_train = y_train[y_train.sum(axis=1) != 0]\n",
    "\n",
    "\n",
    "    test_data, test_labels = load_scene(partition='Test')\n",
    "    test_labels = make_binary(test_labels, classes)\n",
    "\n",
    "    X_test = test_data[input_features].values\n",
    "    y_test = test_labels[classes].values\n",
    "\n",
    "    X_test = X_test[y_test.sum(axis=1) != 0]\n",
    "    y_test = y_test[y_test.sum(axis=1) != 0]\n",
    "\n",
    "    clf = integrate_vbll.VBLLClassifierClf(input_size, hidden_size, n_hidden, num_classes, batch_size, num_epochs, learning_rate, reg_weight, param, return_ood, prior_scale, noise_label, device)\n",
    "\n",
    "    clf.fit(X_train, y_train)\n",
    "\n",
    "    preds, preds_proba = clf.predict_with_proba(X_test)\n",
    "    print('0-1 Accuracy')\n",
    "    print(1. - zero_one_loss(y_test, preds))\n",
    "    vbll_clf_dict[run]['01_loss'] = zero_one_loss(y_test, preds)\n",
    "    vbll_clf_dict[run]['y_test'] = y_test\n",
    "    vbll_clf_dict[run]['y_pred'] = preds\n",
    "    vbll_clf_dict[run]['y_pred_proba'] = preds_proba\n"
   ]
  },
  {
   "cell_type": "code",
   "execution_count": null,
   "metadata": {},
   "outputs": [],
   "source": [
    "f = open(exp_name + \"_vbll_results\" + \".pkl\",\"wb\")\n",
    "pickle.dump(vbll_clf_dict,f)\n",
    "f.close()\n"
   ]
  },
  {
   "cell_type": "code",
   "execution_count": null,
   "metadata": {},
   "outputs": [],
   "source": []
  }
 ],
 "metadata": {
  "kernelspec": {
   "display_name": "bfn2",
   "language": "python",
   "name": "python3"
  },
  "language_info": {
   "codemirror_mode": {
    "name": "ipython",
    "version": 3
   },
   "file_extension": ".py",
   "mimetype": "text/x-python",
   "name": "python",
   "nbconvert_exporter": "python",
   "pygments_lexer": "ipython3",
   "version": "3.10.9"
  }
 },
 "nbformat": 4,
 "nbformat_minor": 2
}
